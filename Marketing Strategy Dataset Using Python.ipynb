{
 "cells": [
  {
   "cell_type": "code",
   "execution_count": 99,
   "id": "48898347-0603-4d8d-a93b-2b62bbb282f1",
   "metadata": {},
   "outputs": [],
   "source": [
    "# importing libraries\n",
    "import pandas as pd\n",
    "import numpy as np\n",
    "import matplotlib.pyplot as plt\n",
    "import seaborn as sns"
   ]
  },
  {
   "cell_type": "code",
   "execution_count": 5,
   "id": "8a4bb088-7d0f-4be8-b74d-1961cf6ec8bc",
   "metadata": {},
   "outputs": [],
   "source": [
    "# reading the excel dataset into the Jupyter notebook\n",
    "df= pd.read_excel(r'C:\\Users\\user\\Downloads\\HNG\\marketing_campaign_dataset.xlsx')"
   ]
  },
  {
   "cell_type": "code",
   "execution_count": 6,
   "id": "05f87610-eaa1-427e-934f-1e42763c18cc",
   "metadata": {},
   "outputs": [
    {
     "data": {
      "text/html": [
       "<div>\n",
       "<style scoped>\n",
       "    .dataframe tbody tr th:only-of-type {\n",
       "        vertical-align: middle;\n",
       "    }\n",
       "\n",
       "    .dataframe tbody tr th {\n",
       "        vertical-align: top;\n",
       "    }\n",
       "\n",
       "    .dataframe thead th {\n",
       "        text-align: right;\n",
       "    }\n",
       "</style>\n",
       "<table border=\"1\" class=\"dataframe\">\n",
       "  <thead>\n",
       "    <tr style=\"text-align: right;\">\n",
       "      <th></th>\n",
       "      <th>Campaign_ID</th>\n",
       "      <th>Company</th>\n",
       "      <th>Campaign_Type</th>\n",
       "      <th>Target_Audience</th>\n",
       "      <th>Duration</th>\n",
       "      <th>Channel_Used</th>\n",
       "      <th>Conversion_Rate</th>\n",
       "      <th>Acquisition_Cost</th>\n",
       "      <th>ROI</th>\n",
       "      <th>Location</th>\n",
       "      <th>Date</th>\n",
       "      <th>Clicks</th>\n",
       "      <th>Impressions</th>\n",
       "      <th>Engagement_Score</th>\n",
       "      <th>Customer_Segment</th>\n",
       "    </tr>\n",
       "  </thead>\n",
       "  <tbody>\n",
       "    <tr>\n",
       "      <th>0</th>\n",
       "      <td>1</td>\n",
       "      <td>Innovate Industries</td>\n",
       "      <td>Email</td>\n",
       "      <td>Men 18-24</td>\n",
       "      <td>30 days</td>\n",
       "      <td>Google Ads</td>\n",
       "      <td>0.04</td>\n",
       "      <td>16174</td>\n",
       "      <td>6.29</td>\n",
       "      <td>Chicago</td>\n",
       "      <td>2021-01-01 00:00:00</td>\n",
       "      <td>506</td>\n",
       "      <td>1922</td>\n",
       "      <td>6</td>\n",
       "      <td>Health &amp; Wellness</td>\n",
       "    </tr>\n",
       "    <tr>\n",
       "      <th>1</th>\n",
       "      <td>2</td>\n",
       "      <td>NexGen Systems</td>\n",
       "      <td>Email</td>\n",
       "      <td>Women 35-44</td>\n",
       "      <td>60 days</td>\n",
       "      <td>Google Ads</td>\n",
       "      <td>0.12</td>\n",
       "      <td>11566</td>\n",
       "      <td>5.61</td>\n",
       "      <td>New York</td>\n",
       "      <td>2021-02-01 00:00:00</td>\n",
       "      <td>116</td>\n",
       "      <td>7523</td>\n",
       "      <td>7</td>\n",
       "      <td>Fashionistas</td>\n",
       "    </tr>\n",
       "    <tr>\n",
       "      <th>2</th>\n",
       "      <td>3</td>\n",
       "      <td>Alpha Innovations</td>\n",
       "      <td>Influencer</td>\n",
       "      <td>Men 25-34</td>\n",
       "      <td>30 days</td>\n",
       "      <td>YouTube</td>\n",
       "      <td>0.07</td>\n",
       "      <td>10200</td>\n",
       "      <td>7.18</td>\n",
       "      <td>Los Angeles</td>\n",
       "      <td>2021-03-01 00:00:00</td>\n",
       "      <td>584</td>\n",
       "      <td>7698</td>\n",
       "      <td>1</td>\n",
       "      <td>Outdoor Adventurers</td>\n",
       "    </tr>\n",
       "    <tr>\n",
       "      <th>3</th>\n",
       "      <td>4</td>\n",
       "      <td>DataTech Solutions</td>\n",
       "      <td>Display</td>\n",
       "      <td>All Ages</td>\n",
       "      <td>60 days</td>\n",
       "      <td>YouTube</td>\n",
       "      <td>0.11</td>\n",
       "      <td>12724</td>\n",
       "      <td>5.55</td>\n",
       "      <td>Miami</td>\n",
       "      <td>2021-04-01 00:00:00</td>\n",
       "      <td>217</td>\n",
       "      <td>1820</td>\n",
       "      <td>7</td>\n",
       "      <td>Health &amp; Wellness</td>\n",
       "    </tr>\n",
       "    <tr>\n",
       "      <th>4</th>\n",
       "      <td>5</td>\n",
       "      <td>NexGen Systems</td>\n",
       "      <td>Email</td>\n",
       "      <td>Men 25-34</td>\n",
       "      <td>15 days</td>\n",
       "      <td>YouTube</td>\n",
       "      <td>0.05</td>\n",
       "      <td>16452</td>\n",
       "      <td>6.50</td>\n",
       "      <td>Los Angeles</td>\n",
       "      <td>2021-05-01 00:00:00</td>\n",
       "      <td>379</td>\n",
       "      <td>4201</td>\n",
       "      <td>3</td>\n",
       "      <td>Health &amp; Wellness</td>\n",
       "    </tr>\n",
       "  </tbody>\n",
       "</table>\n",
       "</div>"
      ],
      "text/plain": [
       "   Campaign_ID              Company Campaign_Type Target_Audience Duration  \\\n",
       "0            1  Innovate Industries         Email       Men 18-24  30 days   \n",
       "1            2       NexGen Systems         Email     Women 35-44  60 days   \n",
       "2            3    Alpha Innovations    Influencer       Men 25-34  30 days   \n",
       "3            4   DataTech Solutions       Display        All Ages  60 days   \n",
       "4            5       NexGen Systems         Email       Men 25-34  15 days   \n",
       "\n",
       "  Channel_Used  Conversion_Rate  Acquisition_Cost   ROI     Location  \\\n",
       "0   Google Ads             0.04             16174  6.29      Chicago   \n",
       "1   Google Ads             0.12             11566  5.61     New York   \n",
       "2      YouTube             0.07             10200  7.18  Los Angeles   \n",
       "3      YouTube             0.11             12724  5.55        Miami   \n",
       "4      YouTube             0.05             16452  6.50  Los Angeles   \n",
       "\n",
       "                  Date  Clicks  Impressions  Engagement_Score  \\\n",
       "0  2021-01-01 00:00:00     506         1922                 6   \n",
       "1  2021-02-01 00:00:00     116         7523                 7   \n",
       "2  2021-03-01 00:00:00     584         7698                 1   \n",
       "3  2021-04-01 00:00:00     217         1820                 7   \n",
       "4  2021-05-01 00:00:00     379         4201                 3   \n",
       "\n",
       "      Customer_Segment  \n",
       "0    Health & Wellness  \n",
       "1         Fashionistas  \n",
       "2  Outdoor Adventurers  \n",
       "3    Health & Wellness  \n",
       "4    Health & Wellness  "
      ]
     },
     "execution_count": 6,
     "metadata": {},
     "output_type": "execute_result"
    }
   ],
   "source": [
    "# checking out the dataset\n",
    "# checking out the first 5 rows\n",
    "df.head()"
   ]
  },
  {
   "cell_type": "code",
   "execution_count": 7,
   "id": "9499aefd-9260-491d-a43e-b7b41be339c9",
   "metadata": {},
   "outputs": [
    {
     "name": "stdout",
     "output_type": "stream",
     "text": [
      "<class 'pandas.core.frame.DataFrame'>\n",
      "RangeIndex: 200005 entries, 0 to 200004\n",
      "Data columns (total 15 columns):\n",
      " #   Column            Non-Null Count   Dtype  \n",
      "---  ------            --------------   -----  \n",
      " 0   Campaign_ID       200005 non-null  int64  \n",
      " 1   Company           200005 non-null  object \n",
      " 2   Campaign_Type     200005 non-null  object \n",
      " 3   Target_Audience   200005 non-null  object \n",
      " 4   Duration          200005 non-null  object \n",
      " 5   Channel_Used      200005 non-null  object \n",
      " 6   Conversion_Rate   200005 non-null  float64\n",
      " 7   Acquisition_Cost  200005 non-null  int64  \n",
      " 8   ROI               200005 non-null  float64\n",
      " 9   Location          200005 non-null  object \n",
      " 10  Date              200005 non-null  object \n",
      " 11  Clicks            200005 non-null  int64  \n",
      " 12  Impressions       200005 non-null  int64  \n",
      " 13  Engagement_Score  200005 non-null  int64  \n",
      " 14  Customer_Segment  200005 non-null  object \n",
      "dtypes: float64(2), int64(5), object(8)\n",
      "memory usage: 22.9+ MB\n"
     ]
    }
   ],
   "source": [
    "# information about the dataset\n",
    "# total rows = 200005\n",
    "# total columns = 15\n",
    "df.info()"
   ]
  },
  {
   "cell_type": "code",
   "execution_count": 8,
   "id": "01acf9ac-a417-4655-b0e8-47630c8bdaa9",
   "metadata": {},
   "outputs": [
    {
     "data": {
      "text/html": [
       "<div>\n",
       "<style scoped>\n",
       "    .dataframe tbody tr th:only-of-type {\n",
       "        vertical-align: middle;\n",
       "    }\n",
       "\n",
       "    .dataframe tbody tr th {\n",
       "        vertical-align: top;\n",
       "    }\n",
       "\n",
       "    .dataframe thead th {\n",
       "        text-align: right;\n",
       "    }\n",
       "</style>\n",
       "<table border=\"1\" class=\"dataframe\">\n",
       "  <thead>\n",
       "    <tr style=\"text-align: right;\">\n",
       "      <th></th>\n",
       "      <th>Campaign_ID</th>\n",
       "      <th>Conversion_Rate</th>\n",
       "      <th>Acquisition_Cost</th>\n",
       "      <th>ROI</th>\n",
       "      <th>Clicks</th>\n",
       "      <th>Impressions</th>\n",
       "      <th>Engagement_Score</th>\n",
       "    </tr>\n",
       "  </thead>\n",
       "  <tbody>\n",
       "    <tr>\n",
       "      <th>count</th>\n",
       "      <td>200005.000000</td>\n",
       "      <td>200005.000000</td>\n",
       "      <td>200005.000000</td>\n",
       "      <td>200005.000000</td>\n",
       "      <td>200005.000000</td>\n",
       "      <td>200005.000000</td>\n",
       "      <td>200005.000000</td>\n",
       "    </tr>\n",
       "    <tr>\n",
       "      <th>mean</th>\n",
       "      <td>100003.000000</td>\n",
       "      <td>0.080069</td>\n",
       "      <td>12504.441794</td>\n",
       "      <td>5.002416</td>\n",
       "      <td>549.774591</td>\n",
       "      <td>5507.307107</td>\n",
       "      <td>5.494673</td>\n",
       "    </tr>\n",
       "    <tr>\n",
       "      <th>std</th>\n",
       "      <td>57736.614632</td>\n",
       "      <td>0.040602</td>\n",
       "      <td>4337.663210</td>\n",
       "      <td>1.734485</td>\n",
       "      <td>260.019354</td>\n",
       "      <td>2596.863794</td>\n",
       "      <td>2.872593</td>\n",
       "    </tr>\n",
       "    <tr>\n",
       "      <th>min</th>\n",
       "      <td>1.000000</td>\n",
       "      <td>0.010000</td>\n",
       "      <td>5000.000000</td>\n",
       "      <td>2.000000</td>\n",
       "      <td>100.000000</td>\n",
       "      <td>1000.000000</td>\n",
       "      <td>1.000000</td>\n",
       "    </tr>\n",
       "    <tr>\n",
       "      <th>25%</th>\n",
       "      <td>50002.000000</td>\n",
       "      <td>0.050000</td>\n",
       "      <td>8740.000000</td>\n",
       "      <td>3.500000</td>\n",
       "      <td>325.000000</td>\n",
       "      <td>3266.000000</td>\n",
       "      <td>3.000000</td>\n",
       "    </tr>\n",
       "    <tr>\n",
       "      <th>50%</th>\n",
       "      <td>100003.000000</td>\n",
       "      <td>0.080000</td>\n",
       "      <td>12497.000000</td>\n",
       "      <td>5.010000</td>\n",
       "      <td>550.000000</td>\n",
       "      <td>5518.000000</td>\n",
       "      <td>5.000000</td>\n",
       "    </tr>\n",
       "    <tr>\n",
       "      <th>75%</th>\n",
       "      <td>150004.000000</td>\n",
       "      <td>0.120000</td>\n",
       "      <td>16264.000000</td>\n",
       "      <td>6.510000</td>\n",
       "      <td>775.000000</td>\n",
       "      <td>7753.000000</td>\n",
       "      <td>8.000000</td>\n",
       "    </tr>\n",
       "    <tr>\n",
       "      <th>max</th>\n",
       "      <td>200005.000000</td>\n",
       "      <td>0.150000</td>\n",
       "      <td>20000.000000</td>\n",
       "      <td>8.000000</td>\n",
       "      <td>1000.000000</td>\n",
       "      <td>10000.000000</td>\n",
       "      <td>10.000000</td>\n",
       "    </tr>\n",
       "  </tbody>\n",
       "</table>\n",
       "</div>"
      ],
      "text/plain": [
       "         Campaign_ID  Conversion_Rate  Acquisition_Cost            ROI  \\\n",
       "count  200005.000000    200005.000000     200005.000000  200005.000000   \n",
       "mean   100003.000000         0.080069      12504.441794       5.002416   \n",
       "std     57736.614632         0.040602       4337.663210       1.734485   \n",
       "min         1.000000         0.010000       5000.000000       2.000000   \n",
       "25%     50002.000000         0.050000       8740.000000       3.500000   \n",
       "50%    100003.000000         0.080000      12497.000000       5.010000   \n",
       "75%    150004.000000         0.120000      16264.000000       6.510000   \n",
       "max    200005.000000         0.150000      20000.000000       8.000000   \n",
       "\n",
       "              Clicks    Impressions  Engagement_Score  \n",
       "count  200005.000000  200005.000000     200005.000000  \n",
       "mean      549.774591    5507.307107          5.494673  \n",
       "std       260.019354    2596.863794          2.872593  \n",
       "min       100.000000    1000.000000          1.000000  \n",
       "25%       325.000000    3266.000000          3.000000  \n",
       "50%       550.000000    5518.000000          5.000000  \n",
       "75%       775.000000    7753.000000          8.000000  \n",
       "max      1000.000000   10000.000000         10.000000  "
      ]
     },
     "execution_count": 8,
     "metadata": {},
     "output_type": "execute_result"
    }
   ],
   "source": [
    "# checking the descriptive statisitics of the data frame\n",
    "df.describe()"
   ]
  },
  {
   "cell_type": "code",
   "execution_count": 9,
   "id": "3f01c70b-d150-45ef-8f8d-984f48e1468e",
   "metadata": {},
   "outputs": [
    {
     "data": {
      "text/plain": [
       "Index(['Campaign_ID', 'Company', 'Campaign_Type', 'Target_Audience',\n",
       "       'Duration', 'Channel_Used', 'Conversion_Rate', 'Acquisition_Cost',\n",
       "       'ROI', 'Location', 'Date', 'Clicks', 'Impressions', 'Engagement_Score',\n",
       "       'Customer_Segment'],\n",
       "      dtype='object')"
      ]
     },
     "execution_count": 9,
     "metadata": {},
     "output_type": "execute_result"
    }
   ],
   "source": [
    "# All the column names\n",
    "df.columns"
   ]
  },
  {
   "cell_type": "code",
   "execution_count": 10,
   "id": "3a48b2a7-5ba4-46d7-84b3-f3e105b86344",
   "metadata": {},
   "outputs": [
    {
     "data": {
      "text/plain": [
       "Index(['campaign_id', 'company', 'campaign_type', 'target_audience',\n",
       "       'duration', 'channel_used', 'conversion_rate', 'acquisition_cost',\n",
       "       'roi', 'location', 'date', 'clicks', 'impressions', 'engagement_score',\n",
       "       'customer_segment'],\n",
       "      dtype='object')"
      ]
     },
     "execution_count": 10,
     "metadata": {},
     "output_type": "execute_result"
    }
   ],
   "source": [
    "# changing all to column names to lower case\n",
    "df.columns.str.lower()"
   ]
  },
  {
   "cell_type": "code",
   "execution_count": 11,
   "id": "b8ea1db4-6ffc-42c9-bb7b-2737dd7eaa06",
   "metadata": {},
   "outputs": [
    {
     "data": {
      "text/html": [
       "<div>\n",
       "<style scoped>\n",
       "    .dataframe tbody tr th:only-of-type {\n",
       "        vertical-align: middle;\n",
       "    }\n",
       "\n",
       "    .dataframe tbody tr th {\n",
       "        vertical-align: top;\n",
       "    }\n",
       "\n",
       "    .dataframe thead th {\n",
       "        text-align: right;\n",
       "    }\n",
       "</style>\n",
       "<table border=\"1\" class=\"dataframe\">\n",
       "  <thead>\n",
       "    <tr style=\"text-align: right;\">\n",
       "      <th></th>\n",
       "      <th>Campaign_ID</th>\n",
       "      <th>Company</th>\n",
       "      <th>Campaign_Type</th>\n",
       "      <th>Target_Audience</th>\n",
       "      <th>Duration</th>\n",
       "      <th>Channel_Used</th>\n",
       "      <th>Conversion_Rate</th>\n",
       "      <th>Acquisition_Cost</th>\n",
       "      <th>ROI</th>\n",
       "      <th>Location</th>\n",
       "      <th>Date</th>\n",
       "      <th>Clicks</th>\n",
       "      <th>Impressions</th>\n",
       "      <th>Engagement_Score</th>\n",
       "      <th>Customer_Segment</th>\n",
       "    </tr>\n",
       "  </thead>\n",
       "  <tbody>\n",
       "  </tbody>\n",
       "</table>\n",
       "</div>"
      ],
      "text/plain": [
       "Empty DataFrame\n",
       "Columns: [Campaign_ID, Company, Campaign_Type, Target_Audience, Duration, Channel_Used, Conversion_Rate, Acquisition_Cost, ROI, Location, Date, Clicks, Impressions, Engagement_Score, Customer_Segment]\n",
       "Index: []"
      ]
     },
     "execution_count": 11,
     "metadata": {},
     "output_type": "execute_result"
    }
   ],
   "source": [
    "# checking for rows with missing values\n",
    "rows_with_missing_values = df[df.isnull().any(axis=1)]\n",
    "rows_with_missing_values"
   ]
  },
  {
   "cell_type": "code",
   "execution_count": 12,
   "id": "0c90d781-5236-4b84-9f37-15cf09702ded",
   "metadata": {},
   "outputs": [
    {
     "data": {
      "text/plain": [
       "Campaign_ID           0\n",
       "Company               0\n",
       "Campaign_Type         0\n",
       "Target_Audience       0\n",
       "Duration              0\n",
       "Channel_Used          0\n",
       "Conversion_Rate     0.0\n",
       "Acquisition_Cost      0\n",
       "ROI                 0.0\n",
       "Location              0\n",
       "Date                  0\n",
       "Clicks                0\n",
       "Impressions           0\n",
       "Engagement_Score      0\n",
       "Customer_Segment      0\n",
       "dtype: object"
      ]
     },
     "execution_count": 12,
     "metadata": {},
     "output_type": "execute_result"
    }
   ],
   "source": [
    "# finding the total number of with missing values\n",
    "# This means there are no missing values in the data set\n",
    "num_rows_with_missing_values = df[df.isnull().any(axis=1)].sum()\n",
    "num_rows_with_missing_values"
   ]
  },
  {
   "cell_type": "code",
   "execution_count": 13,
   "id": "c6d491f7-99c8-4119-b559-0798bc1a8a2b",
   "metadata": {},
   "outputs": [
    {
     "data": {
      "text/html": [
       "<div>\n",
       "<style scoped>\n",
       "    .dataframe tbody tr th:only-of-type {\n",
       "        vertical-align: middle;\n",
       "    }\n",
       "\n",
       "    .dataframe tbody tr th {\n",
       "        vertical-align: top;\n",
       "    }\n",
       "\n",
       "    .dataframe thead th {\n",
       "        text-align: right;\n",
       "    }\n",
       "</style>\n",
       "<table border=\"1\" class=\"dataframe\">\n",
       "  <thead>\n",
       "    <tr style=\"text-align: right;\">\n",
       "      <th></th>\n",
       "      <th>Conversion_Rate</th>\n",
       "      <th>Clicks</th>\n",
       "      <th>ROI</th>\n",
       "      <th>Acquisition_Cost</th>\n",
       "    </tr>\n",
       "  </thead>\n",
       "  <tbody>\n",
       "    <tr>\n",
       "      <th>mean</th>\n",
       "      <td>0.080069</td>\n",
       "      <td>549.774591</td>\n",
       "      <td>5.002416</td>\n",
       "      <td>12504.441794</td>\n",
       "    </tr>\n",
       "    <tr>\n",
       "      <th>median</th>\n",
       "      <td>0.080000</td>\n",
       "      <td>550.000000</td>\n",
       "      <td>5.010000</td>\n",
       "      <td>12497.000000</td>\n",
       "    </tr>\n",
       "    <tr>\n",
       "      <th>std</th>\n",
       "      <td>0.040602</td>\n",
       "      <td>260.019354</td>\n",
       "      <td>1.734485</td>\n",
       "      <td>4337.663210</td>\n",
       "    </tr>\n",
       "  </tbody>\n",
       "</table>\n",
       "</div>"
      ],
      "text/plain": [
       "        Conversion_Rate      Clicks       ROI  Acquisition_Cost\n",
       "mean           0.080069  549.774591  5.002416      12504.441794\n",
       "median         0.080000  550.000000  5.010000      12497.000000\n",
       "std            0.040602  260.019354  1.734485       4337.663210"
      ]
     },
     "execution_count": 13,
     "metadata": {},
     "output_type": "execute_result"
    }
   ],
   "source": [
    "# checking for basic statistics (mean, median, standard deviation).\n",
    "# in these columns:  ROI, Click-Through Rate (CTR), Cost Per Click (CPC), and Conversion Rate\n",
    "df[['Conversion_Rate', 'Clicks','ROI','Acquisition_Cost']].agg(['mean', 'median', 'std'])"
   ]
  },
  {
   "cell_type": "code",
   "execution_count": 14,
   "id": "d210725f-6339-4e7f-9f73-94273662f47b",
   "metadata": {},
   "outputs": [
    {
     "data": {
      "text/plain": [
       "array([     1,      2,      3, ..., 200003, 200004, 200005], dtype=int64)"
      ]
     },
     "execution_count": 14,
     "metadata": {},
     "output_type": "execute_result"
    }
   ],
   "source": [
    "# checking if all the IDS are unique\n",
    "df['Campaign_ID'].unique()"
   ]
  },
  {
   "cell_type": "code",
   "execution_count": 15,
   "id": "1d6fd205-d4da-4e94-aeba-9b0b04565590",
   "metadata": {},
   "outputs": [
    {
     "data": {
      "text/plain": [
       "array(['Men 18-24', 'Women 35-44', 'Men 25-34', 'All Ages', 'Women 25-34'],\n",
       "      dtype=object)"
      ]
     },
     "execution_count": 15,
     "metadata": {},
     "output_type": "execute_result"
    }
   ],
   "source": [
    "# checking for the unique target audience\n",
    "df['Target_Audience'].unique()"
   ]
  },
  {
   "cell_type": "code",
   "execution_count": 16,
   "id": "24ea8b2c-63f4-4edb-8351-7e340112da5e",
   "metadata": {},
   "outputs": [
    {
     "data": {
      "text/plain": [
       "array(['Google Ads', 'YouTube', 'Instagram', 'Website', 'Facebook',\n",
       "       'Email'], dtype=object)"
      ]
     },
     "execution_count": 16,
     "metadata": {},
     "output_type": "execute_result"
    }
   ],
   "source": [
    "# checking for the unique marketing channels\n",
    "df['Channel_Used'].unique()"
   ]
  },
  {
   "cell_type": "code",
   "execution_count": 17,
   "id": "e811041c-5be6-4fc6-b939-24787b8b4c43",
   "metadata": {},
   "outputs": [
    {
     "name": "stdout",
     "output_type": "stream",
     "text": [
      "Outliers detected in the dataset:\n",
      "Empty DataFrame\n",
      "Columns: [Conversion_Rate, Clicks, ROI, Acquisition_Cost]\n",
      "Index: []\n"
     ]
    }
   ],
   "source": [
    "# checking for outliers \n",
    "\n",
    "# calculating Q1 and Q3\n",
    "Q1= df[['Conversion_Rate', 'Clicks','ROI','Acquisition_Cost']]. quantile(0.25)\n",
    "Q3=df[['Conversion_Rate', 'Clicks','ROI','Acquisition_Cost']]. quantile (0.75)\n",
    "\n",
    "# calculating IQR\n",
    "IQR= Q3 - Q1\n",
    "\n",
    "# calculating lower and upper bounds\n",
    "lower_bound= Q1- 1.5 * IQR\n",
    "upper_bound= Q3 + 1.5 *IQR \n",
    "\n",
    "\n",
    "# Create a DataFrame to hold outlier information\n",
    "outliers = pd.DataFrame()\n",
    "\n",
    "# Check for outliers in each column\n",
    "for column in ['Conversion_Rate', 'Clicks', 'ROI', 'Acquisition_Cost']:\n",
    "    outlier_condition = (df[column] < lower_bound[column]) | (df[column] > upper_bound[column])\n",
    "    outliers[column] = df[outlier_condition][column]\n",
    "\n",
    "# Display the outliers\n",
    "print(\"Outliers detected in the dataset:\")\n",
    "print(outliers)"
   ]
  },
  {
   "cell_type": "code",
   "execution_count": 61,
   "id": "bfd4cc6a-6748-4b68-b249-0630525aea0f",
   "metadata": {},
   "outputs": [
    {
     "data": {
      "text/html": [
       "<div>\n",
       "<style scoped>\n",
       "    .dataframe tbody tr th:only-of-type {\n",
       "        vertical-align: middle;\n",
       "    }\n",
       "\n",
       "    .dataframe tbody tr th {\n",
       "        vertical-align: top;\n",
       "    }\n",
       "\n",
       "    .dataframe thead th {\n",
       "        text-align: right;\n",
       "    }\n",
       "</style>\n",
       "<table border=\"1\" class=\"dataframe\">\n",
       "  <thead>\n",
       "    <tr style=\"text-align: right;\">\n",
       "      <th></th>\n",
       "      <th>Campaign_Type</th>\n",
       "      <th>ROI</th>\n",
       "    </tr>\n",
       "  </thead>\n",
       "  <tbody>\n",
       "    <tr>\n",
       "      <th>0</th>\n",
       "      <td>Display</td>\n",
       "      <td>5.006497</td>\n",
       "    </tr>\n",
       "    <tr>\n",
       "      <th>1</th>\n",
       "      <td>Email</td>\n",
       "      <td>4.994274</td>\n",
       "    </tr>\n",
       "    <tr>\n",
       "      <th>2</th>\n",
       "      <td>Influencer</td>\n",
       "      <td>5.011040</td>\n",
       "    </tr>\n",
       "    <tr>\n",
       "      <th>3</th>\n",
       "      <td>Search</td>\n",
       "      <td>5.008357</td>\n",
       "    </tr>\n",
       "    <tr>\n",
       "      <th>4</th>\n",
       "      <td>Social Media</td>\n",
       "      <td>4.991781</td>\n",
       "    </tr>\n",
       "  </tbody>\n",
       "</table>\n",
       "</div>"
      ],
      "text/plain": [
       "  Campaign_Type       ROI\n",
       "0       Display  5.006497\n",
       "1         Email  4.994274\n",
       "2    Influencer  5.011040\n",
       "3        Search  5.008357\n",
       "4  Social Media  4.991781"
      ]
     },
     "execution_count": 61,
     "metadata": {},
     "output_type": "execute_result"
    }
   ],
   "source": [
    "# Comparing campaign success among different channels\n",
    "Avg_roi_per_campaign_type=df.groupby('Campaign_Type')['ROI'].mean().reset_index()\n",
    "Avg_roi_per_campaign_type"
   ]
  },
  {
   "cell_type": "code",
   "execution_count": 63,
   "id": "868aeef2-ed4b-4c2b-9ecf-b14bd146ad6f",
   "metadata": {},
   "outputs": [
    {
     "data": {
      "image/png": "[encoded data removed]",
      "text/plain": [
       "<Figure size 1000x600 with 1 Axes>"
      ]
     },
     "metadata": {},
     "output_type": "display_data"
    }
   ],
   "source": [
    "# Creating a bar chart\n",
    "plt.figure(figsize=(10, 6))\n",
    "plt.bar(Avg_roi_per_campaign_type['Campaign_Type'], Avg_roi_per_campaign_type['ROI'], color='blue')\n",
    "\n",
    "plt.title('Average ROI by Campaign Type', fontsize=14)\n",
    "plt.xlabel('Campaign_Type', fontsize=12)\n",
    "plt.ylabel('Average ROI (%)', fontsize=12)\n",
    "plt.xticks(rotation=45)  # Rotate x-axis labels for readability\n",
    "\n",
    "plt.show()"
   ]
  },
  {
   "cell_type": "code",
   "execution_count": 49,
   "id": "1f07ff55-f2b9-412e-9b1f-2fc1660c152b",
   "metadata": {},
   "outputs": [
    {
     "data": {
      "image/png": "[encoded data removed]",
      "text/plain": [
       "<Figure size 1000x600 with 1 Axes>"
      ]
     },
     "metadata": {},
     "output_type": "display_data"
    }
   ],
   "source": [
    "# Comparing campaign success among different channels\n",
    "# Boxplot (distribution of conversion rates)\n",
    "plt.figure(figsize=(10, 6))\n",
    "\n",
    "# Group data by channel\n",
    "channels = df['Channel_Used'].unique()\n",
    "data_to_plot = [df[df['Channel_Used'] == channel]['Conversion_Rate'] for channel in channels]\n",
    "\n",
    "# Create the boxplot\n",
    "plt.boxplot(data_to_plot, labels=channels, patch_artist=True)\n",
    "\n",
    "# Customize\n",
    "plt.title('Distribution of Conversion Rates by Channel', fontsize=14)\n",
    "plt.xlabel('Channel', fontsize=12)\n",
    "plt.ylabel('Conversion Rate (%)', fontsize=12)\n",
    "plt.xticks(rotation=45)  # Rotate x-axis labels\n",
    "\n",
    "plt.tight_layout()\n",
    "plt.show()"
   ]
  },
  {
   "cell_type": "code",
   "execution_count": 124,
   "id": "c3172d1a-ca05-4e5c-bae5-af4b5ff4d110",
   "metadata": {},
   "outputs": [],
   "source": [
    "#converting the date column\n",
    "df['Date'] = pd.to_datetime(df['Date'])\n",
    "#creating a new column extracting month from the date columnn\n",
    "df['Month'] = df['Date'].dt.month"
   ]
  },
  {
   "cell_type": "code",
   "execution_count": 126,
   "id": "ea55e72d-c018-42c9-a5b2-02ea64b6abe3",
   "metadata": {},
   "outputs": [],
   "source": [
    "# Define month order\n",
    "#month_order = ['Jan', 'Feb', 'Mar', 'Apr', 'May', 'Jun', 'Jul', 'Aug', 'Sep', 'Oct', 'Nov', 'Dec']\n",
    "#df['Month'] = pd.Categorical(df['Month'], categories=month_order, ordered=True)\n",
    "#df = df.sort_values('Month')  # Sort by month"
   ]
  },
  {
   "cell_type": "code",
   "execution_count": 128,
   "id": "e275b613-e0bb-4815-8ac1-1f1e271f78d7",
   "metadata": {},
   "outputs": [
    {
     "name": "stdout",
     "output_type": "stream",
     "text": [
      "Month              1         2         3         4         5         6   \\\n",
      "Location                                                                  \n",
      "Chicago      5.003244  5.029822  5.002158  5.057663  4.969126  5.006608   \n",
      "Houston      5.053001  5.011477  5.003168  4.995567  5.007462  4.976992   \n",
      "Los Angeles  5.053562  5.035795  4.969784  4.985654  5.032001  5.045538   \n",
      "Miami        5.020341  5.038994  5.032944  4.983225  4.979425  5.026264   \n",
      "New York     4.981786  4.972897  5.004085  4.968962  5.004004  4.974811   \n",
      "\n",
      "Month              7         8         9         10        11        12  \n",
      "Location                                                                 \n",
      "Chicago      4.989621  5.007647  5.032198  4.951770  4.984379  4.987855  \n",
      "Houston      4.995830  4.959693  5.001248  5.067230  5.008882  5.003913  \n",
      "Los Angeles  5.017449  4.964291  5.027129  4.955186  5.022694  5.027091  \n",
      "Miami        4.941698  4.986892  5.010234  5.047765  5.025957  5.057136  \n",
      "New York     4.980123  4.964144  5.008548  4.985949  4.938112  4.978738  \n"
     ]
    }
   ],
   "source": [
    "# Pivot the data to create a matrix (Location vs. Month)\n",
    "pivot_table = df.pivot_table(\n",
    "    index='Location',\n",
    "    columns='Month',\n",
    "    values='ROI',\n",
    "    aggfunc='mean'  # Use mean, sum, etc., depending on your goal\n",
    ")\n",
    "\n",
    "print(pivot_table)"
   ]
  },
  {
   "cell_type": "code",
   "execution_count": 130,
   "id": "1e5f0ddd-d203-4b96-956e-94c1aaa891e6",
   "metadata": {},
   "outputs": [
    {
     "data": {
      "image/png": "[encoded data removed]",
      "text/plain": [
       "<Figure size 1000x600 with 2 Axes>"
      ]
     },
     "metadata": {},
     "output_type": "display_data"
    }
   ],
   "source": [
    "import matplotlib.pyplot as plt\n",
    "import seaborn as sns\n",
    "plt.figure(figsize=(10, 6))\n",
    "sns.heatmap(pivot_table, annot=True, cmap='viridis', fmt='g')\n",
    "plt.title('ROI by Location and Month')\n",
    "plt.show()"
   ]
  },
  {
   "cell_type": "code",
   "execution_count": 138,
   "id": "9ed2fee4-ca9f-43ee-84c6-37b5eaaccc22",
   "metadata": {},
   "outputs": [
    {
     "data": {
      "image/png": "[encoded data removed]",
      "text/plain": [
       "<Figure size 1000x600 with 1 Axes>"
      ]
     },
     "metadata": {},
     "output_type": "display_data"
    }
   ],
   "source": [
    "plt.figure(figsize=(10, 6))  # Set figure size\n",
    "plt.plot(df['Month'], df['ROI'], marker='o', linestyle='-', color='b')\n",
    "\n",
    "# Customize the plot\n",
    "plt.title('Clicks by Month', fontsize=14)\n",
    "plt.xlabel('Month', fontsize=12)\n",
    "plt.ylabel('Clicks', fontsize=12)\n",
    "\n",
    "plt.xticks(rotation=45)  # Rotate x-axis labels for readability\n",
    "\n",
    "# Show the plot\n",
    "\n",
    "plt.show()"
   ]
  },
  {
   "cell_type": "code",
   "execution_count": null,
   "id": "d5daa091-9632-4d40-a31d-64b8f5b979e5",
   "metadata": {},
   "outputs": [],
   "source": []
  },
  {
   "cell_type": "code",
   "execution_count": null,
   "id": "c884ade1-638e-4dbe-b472-b74a3ed96828",
   "metadata": {},
   "outputs": [],
   "source": []
  }
 ],
 "metadata": {
  "kernelspec": {
   "display_name": "Python 3 (ipykernel)",
   "language": "python",
   "name": "python3"
  },
  "language_info": {
   "codemirror_mode": {
    "name": "ipython",
    "version": 3
   },
   "file_extension": ".py",
   "mimetype": "text/x-python",
   "name": "python",
   "nbconvert_exporter": "python",
   "pygments_lexer": "ipython3",
   "version": "3.11.7"
  }
 },
 "nbformat": 4,
 "nbformat_minor": 5
}
